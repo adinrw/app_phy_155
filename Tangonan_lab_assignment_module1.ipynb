{
  "cells": [
    {
      "cell_type": "markdown",
      "metadata": {
        "colab_type": "text",
        "id": "view-in-github"
      },
      "source": [
        "<a href=\"https://colab.research.google.com/github/adinrw/app_phy_155/blob/master/Tangonan_lab_assignment_module1.ipynb\" target=\"_parent\"><img src=\"https://colab.research.google.com/assets/colab-badge.svg\" alt=\"Open In Colab\"/></a>"
      ]
    },
    {
      "cell_type": "markdown",
      "metadata": {
        "id": "G0BcK0H_G1Iu"
      },
      "source": [
        "# **AP155 Lab Assignment**\n",
        "## Module 1: Integrals and Derivatives\n",
        "\n",
        "_Instructions_: Answer each problem as completely as you can. Discuss **all** your answers as clearly and concisely as possible.\n",
        "\n",
        "_Scoring Criteria_: 50% - *correctness of code*; 50% - *discussion of the code and results*. Maximum score is **100 points**.\n",
        "\n",
        "\n"
      ]
    },
    {
      "cell_type": "markdown",
      "metadata": {
        "id": "PeHZ9kP8JaVR"
      },
      "source": [
        "### Student Information\n",
        "\n",
        "_Full Name (Last Name, First Name)_: Tangonan, Darwin James \\\n",
        "_Student No._: 2022-08539\\\n",
        "_Section_: TX3"
      ]
    },
    {
      "cell_type": "markdown",
      "metadata": {
        "id": "Hc183co-J4eI"
      },
      "source": [
        "### Submission Information\n",
        "\n",
        "_Date and Time Submitted (most recent upload)_:\n",
        "\n",
        "**HONOR PLEDGE** I affirm that I have upheld the highest principles of honesty and integrity in my academic work and that this lab assignment is my own work.\n",
        "\n",
        "**Sign here with your full name: Darwin James Jardinco Tangonan**"
      ]
    },
    {
      "cell_type": "markdown",
      "metadata": {
        "id": "X1UGsRpW-eQs"
      },
      "source": [
        "### Grading Information (c/o Lab Instructor)\n",
        "\n",
        "TOTAL SCORE: **XX**/100\n",
        "\n",
        "Score breakdown:\n",
        "* Problem 1 - XX/30\n",
        "* Problem 2 - XX/30\n",
        "* Problem 3 - XX/40\n",
        "\n",
        "_Date and Time Scored (MM/DD/YYYY HH:MM AM/PM):_"
      ]
    },
    {
      "cell_type": "markdown",
      "metadata": {
        "id": "LxWuqiCFMsEh"
      },
      "source": [
        "### PROBLEM 1\n",
        "**Integration using the trapezoidal rule and Simpson's rule**\n",
        "\n",
        "Calculate the integral of the function $ 2x^4 + 3x^2 + 4x + 5$ from $x=0$ to $x=5$.\n",
        "\n",
        "1. Do the numerical calculation using the trapezoidal rule with 10, 100, and 1,000 slices. Describe each step of the calculation clearly and concisely. *(10 pts.)*\n",
        "\n",
        "2. What are the percentage errors of your answers in (1)? *(10 pts.)*\n",
        "\n",
        "3. Repeat the calculation using Simpson's rule with 10, 100, and 1,000 slices. Describe each step of the calculation clearly and concisely. *(5 pts.)*\n",
        "\n",
        "4. What are the percentage errors of your answers in (3)? How do they compare with the results from (1) for the same number of slices? *(5 pts.)*"
      ]
    },
    {
      "cell_type": "code",
      "execution_count": null,
      "metadata": {
        "colab": {
          "base_uri": "https://localhost:8080/"
        },
        "id": "hMqWOsbIMoUh",
        "outputId": "cc8adf03-dcc9-42e5-da45-29edaa0478cc"
      },
      "outputs": [
        {
          "name": "stdout",
          "output_type": "stream",
          "text": [
            "1. Applying Trapezoidal Rule\n",
            "10:\t1471.4375\n",
            "100:\t1450.2145812500003\n",
            "1000:\t1450.0021458331234\n",
            "\n",
            "2. Calculating percent error, with theoretical of 1450\n",
            "10:\t1.478448275862069 %\n",
            "100:\t0.014798706896569988 %\n",
            "1000:\t0.00014798849127240326 %\n",
            "\n",
            "3a. Applying Simpson's Rule\n",
            "10:\t1450.0833333333333\n",
            "100:\t1450.0000083333337\n",
            "1000:\t1450.000000000834\n",
            "\n",
            "3b. Calculating percent error, with theoretical of 1450\n",
            "10:\t0.005747126436776382 %\n",
            "100:\t5.747126657485657e-07 %\n",
            "1000:\t5.75176994155707e-11 %\n",
            "\n",
            "5. Comparing Simpson's and Trapezoidal Errors\n",
            "\tTrapezoidal Error\tSimpsons Error\n",
            "10:\t0.01478448275862069\t5.7471264367763824e-05\n",
            "100:\t0.00014798706896569988\t5.747126657485657e-09\n",
            "1000:\t1.4798849127240327e-06\t5.75176994155707e-13\n",
            "\n",
            "As expected, Simpsons has smaller error than trapezoidal\n"
          ]
        }
      ],
      "source": [
        "#Define the initial function f(x)\n",
        "def f(x):\n",
        "    return 2*x**4 + 3*x**2 + 4*x + 5\n",
        "\n",
        "#Define the Trapezoidal rule, taking input no. of slices (slice), lower bound (lb) and upper bound (ub)\n",
        "def Trapezoid(slice, lb, ub):\n",
        "    # Calculate and the width (h) of each slice\n",
        "    h = abs(ub - lb) / slice\n",
        "\n",
        "    # Initialize the sum of the function value, \"the part before the sum\"\n",
        "    sum_f = 0.5 * (f(lb) + f(ub))\n",
        "\n",
        "    # Calculate the sum of the function values at the interior points\n",
        "    for i in range(1, slice):\n",
        "        sum_f += f(lb + i * h)\n",
        "\n",
        "    # Calculate the approximate integral using the trapezoidal rule\n",
        "    integral = h * sum_f\n",
        "    return integral\n",
        "\n",
        "#Declare slices to be tested\n",
        "slices = [10, 100, 1000]\n",
        "\n",
        "#Print results from applying trapezoidal rule\n",
        "print(\"1. Applying Trapezoidal Rule\")\n",
        "for i in slices:\n",
        "    print(f\"{i}:\\t{Trapezoid(i,0,5)}\")\n",
        "\n",
        "#Calculate and Print Percent Error\n",
        "print(\"\\n2. Calculating percent error, with theoretical of 1450\")\n",
        "for i in slices:\n",
        "    error = abs(1450 - Trapezoid(i,0,5)) / 1450\n",
        "    print(f\"{i}:\\t{error * 100} %\")\n",
        "\n",
        "\n",
        "#Define Simpsons Rule, using same inputs as last time\n",
        "def Simpsons(slice, lb, ub):\n",
        "    # Calculate and the width (h) of each slice\n",
        "    h = abs(ub - lb) / slice\n",
        "\n",
        "    # Initialize the sum of the function value, \"the part before the sum\"\n",
        "    sum_f = f(lb) + f(ub)\n",
        "\n",
        "    # Calculate the sum of the function values at the interior points\n",
        "    for i in range(1, slice, 2):        # loop over odd terms\n",
        "        sum_f += 4 * f(lb + i * h)\n",
        "    for i in range(2, slice, 2):        #loop over even terms\n",
        "        sum_f += 2 * f(lb + i * h)\n",
        "\n",
        "    # Calculate the approximate integral using Simpson's rule\n",
        "    integral = h * sum_f / 3\n",
        "    return integral\n",
        "\n",
        "#Print results from applying Simpson's Rule\n",
        "print(\"\\n3a. Applying Simpson's Rule\")\n",
        "for i in slices:\n",
        "    print(f\"{i}:\\t{Simpsons(i,0,5)}\")\n",
        "\n",
        "#Calculate and Print Percent Error\n",
        "print(\"\\n3b. Calculating percent error, with theoretical of 1450\")\n",
        "for i in slices:\n",
        "    error = abs(1450 - Simpsons(i,0,5)) / 1450\n",
        "    print(f\"{i}:\\t{error * 100} %\")\n",
        "\n",
        "#Compare Simpsons with Trapezoidal Error\n",
        "print(\"\\n5. Comparing Simpson's and Trapezoidal Errors\\n\\tTrapezoidal Error\\tSimpsons Error\")\n",
        "for i in slices:\n",
        "    error_trapezoid = abs(1450 - Trapezoid(i,0,5)) / 1450\n",
        "    error_simpsons = abs(1450 - Simpsons(i,0,5)) / 1450\n",
        "    print(f\"{i}:\\t{error_trapezoid}\\t{error_simpsons}\")\n",
        "print(\"\\nAs expected, Simpsons has smaller error than trapezoidal\")"
      ]
    },
    {
      "cell_type": "markdown",
      "metadata": {
        "id": "m2a6sg90R-NX"
      },
      "source": [
        "### PROBLEM 2\n",
        "\n",
        "**Integration using Gaussian quadrature**\n",
        "\n",
        "Calculate the integral from Problem 1 using the Gaussian quadrature method: $ 2x^4 + 3x^2 + 4x + 5$ from $x=0$ to $x=5$.\n",
        "\n",
        "1. Define the function $\\tt gaussxw$ from Appendix E of the Newman text (and run the cell). *(10 pts.)*\n",
        "\n",
        "2. Calculate the integral using the $\\tt gaussxw$ function in (1) and number of slices $N = 3$. Describe each step in the calculation clearly and concisely. *(20 pts.)*"
      ]
    },
    {
      "cell_type": "code",
      "execution_count": null,
      "metadata": {
        "colab": {
          "base_uri": "https://localhost:8080/"
        },
        "id": "YO_PDJ4VIVs5",
        "outputId": "edabf232-f298-4d94-df00-b2e11180a72a"
      },
      "outputs": [
        {
          "name": "stdout",
          "output_type": "stream",
          "text": [
            "2. Applying Gaussian Quadrature\n",
            "1450.000000000002\n"
          ]
        }
      ],
      "source": [
        "from numpy import ones,copy,cos,tan,pi,linspace\n",
        "\n",
        "# Import the Gaussxw function from Appendix E of Newman's book\n",
        "def gaussxw(N):\n",
        "    # Initial approximation to roots of the Legendre polynomial\n",
        "    a = linspace(3, 4*N-1, N)/(4*N+2)\n",
        "    x = cos(pi*a+1/(8*N*N*tan(a)))\n",
        "\n",
        "    # Find roots using Newton's method\n",
        "    epsilon = 1e-15\n",
        "    delta = 1.0\n",
        "    while delta > epsilon:\n",
        "        p0 = ones(N,float)\n",
        "        p1 = copy(x)\n",
        "        for k in range(1,N):\n",
        "            p0,p1 = p1,((2*k+1)*x*p1-k*p0)/(k+1)\n",
        "        dp = (N+1)*(p0-x*p1)/(1-x*x)\n",
        "        dx = p1/dp\n",
        "        x -= dx\n",
        "        delta= max(abs(dx))\n",
        "\n",
        "    # Calculate the weights\n",
        "    w = 2*(N+1)*(N+1)/(N*N*(1-x*x)*dp*dp)\n",
        "    return x,w\n",
        "\n",
        "def gauss_quad(N,a,b,f = f):        # Integrate using gaussian quadrature\n",
        "    x,w = gaussxw(N)                # Get the roots and weights\n",
        "    xp = 0.5*(b-a)*x + 0.5*(b+a)\n",
        "    wp = 0.5*(b-a)*w                # Rescale the inputs based on upper and lower bounds\n",
        "\n",
        "    s = 0                           # Initialize the sum\n",
        "    for k in range(N):              # Loop through the summation\n",
        "        s += wp[k]*f(xp[k])\n",
        "    return s\n",
        "\n",
        "# Print the results of using Gaussian Quadrature\n",
        "print(\"2. Applying Gaussian Quadrature\")\n",
        "print(gauss_quad(3,0,5))\n"
      ]
    },
    {
      "cell_type": "markdown",
      "metadata": {
        "id": "HceOjNu-VfN9"
      },
      "source": [
        "### PROBLEM 3\n",
        "\n",
        "**Physics Application: Anharmonic Oscillator**\n",
        "\n",
        "_Refer to Exercise 5.10 of the Newman text._ Consider an anharmonic oscillator with potential $V(x)$ symmetric about $x = 0$. Let us set our anharmonic oscillator going with amplitude $a$. That is, at $t = 0$ we release it from rest at position $x = a$ and it swings back towards the origin. Then at $t = 0$ we have $dx/dt = 0$ and the equation for its total energy becomes $E = V(a)$, i.e., the total energy of the particle is given in terms of the amplitude.\n",
        "\n",
        "When the particle reaches the origin for the first time, it has gone through one quarter of a period of the oscillator. The period $T$ is given by: $$ T = \\sqrt{8m} \\int_0^a \\frac{dx}{\\sqrt{V(a)-V(x)}}. $$\n",
        "\n",
        "1. Suppose the potential is $V(x) = x^4$ and the mass of the particle is $m = 1$. Write a Python function that calculates the period of the oscillator for given amplitude a using Gaussian quadrature with $N = 20$ points. Describe each step clearly and concisely. *(20 pts.)*\n",
        "\n",
        "2. Use your function to make a graph of the period for amplitudes ranging from $a = 0$ to $a = 2$. Describe the behavior you find and explain these results clearly and concisely. *(20 pts.)*"
      ]
    },
    {
      "cell_type": "code",
      "execution_count": null,
      "metadata": {
        "colab": {
          "base_uri": "https://localhost:8080/",
          "height": 472
        },
        "id": "p28JF-OQYock",
        "outputId": "5286d9ec-fd4c-4e5a-f317-ce7035c02c0c"
      },
      "outputs": [
        {
          "data": {
            "image/png": "[encoded data removed]",
            "text/plain": [
              "<Figure size 640x480 with 1 Axes>"
            ]
          },
          "metadata": {},
          "output_type": "display_data"
        }
      ],
      "source": [
        "from math import sqrt\n",
        "\n",
        "# Anharmonic oscillator potential\n",
        "def V(x):\n",
        "    return x**4\n",
        "\n",
        "# Define the integrand for the period\n",
        "def I(x, a):\n",
        "    return 1 / sqrt(V(a) - V(x))\n",
        "\n",
        "# Integrate the period using Gaussian Quadrature\n",
        "def period(amp):\n",
        "    # Create intermediate function of integrand specified at amplitude = amp\n",
        "    def f(x):\n",
        "        return I(x, amp)\n",
        "\n",
        "    # Solve for period\n",
        "    m = 1\n",
        "    T = sqrt(8 * m) * gauss_quad(20, 0, amp, f)   # N = 20, lb = 0, ub = amp\n",
        "    return T\n",
        "\n",
        "# Plot period for varying amplitudes a = 0 to a = 2\n",
        "import matplotlib.pyplot as plt\n",
        "\n",
        "xpoints = [i/100 for i in range(1, 200)]    # Generate a list of values from 0 to 2, with tiny increments\n",
        "ypoints = [period(i) for i in xpoints]      # Generate corresponding period values\n",
        "plt.plot(xpoints, ypoints)                  # plot\n",
        "\n",
        "#Format plot labels and show\n",
        "plt.xlabel(\"Amplitude\")\n",
        "plt.ylabel(\"Period\")\n",
        "plt.title(\"Period vs Amplitude\")\n",
        "plt.show()"
      ]
    }
  ],
  "metadata": {
    "colab": {
      "include_colab_link": true,
      "provenance": []
    },
    "kernelspec": {
      "display_name": "Python 3",
      "name": "python3"
    },
    "language_info": {
      "codemirror_mode": {
        "name": "ipython",
        "version": 3
      },
      "file_extension": ".py",
      "mimetype": "text/x-python",
      "name": "python",
      "nbconvert_exporter": "python",
      "pygments_lexer": "ipython3",
      "version": "3.12.5"
    }
  },
  "nbformat": 4,
  "nbformat_minor": 0
}
