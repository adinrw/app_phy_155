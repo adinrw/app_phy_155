{
 "cells": [
  {
   "cell_type": "markdown",
   "metadata": {
    "id": "G0BcK0H_G1Iu"
   },
   "source": [
    "# **AP155 Lab Assignment**\n",
    "## Module 5: Partial Differential Equations\n",
    "\n",
    "_Instructions_: Answer each problem as completely as you can. Discuss **all** your answers as clearly and concisely as possible.\n",
    "\n",
    "_Scoring Criteria_: 50% - *correctness of code*; 50% - *discussion of the code and results*. Maximum score is **100 points**.\n",
    "\n"
   ]
  },
  {
   "cell_type": "markdown",
   "metadata": {
    "id": "PeHZ9kP8JaVR"
   },
   "source": [
    "### Student Information\n",
    "\n",
    "_Full Name (Last Name, First Name)_: Tangonan, Darwin James J.\\\n",
    "_Student No._: 2022-08539\\\n",
    "_Section_: TX3"
   ]
  },
  {
   "cell_type": "markdown",
   "metadata": {
    "id": "Hc183co-J4eI"
   },
   "source": [
    "### Submission Information\n",
    "\n",
    "_Date and Time Submitted (most recent upload)_:\n",
    "\n",
    "**HONOR PLEDGE** I affirm that I have upheld the highest principles of honesty and integrity in my academic work and that this lab assignment is my own work.\n",
    "\n",
    "**Sign here with your full name: DARWIN JAMES JARDINICO TANGONAN**"
   ]
  },
  {
   "cell_type": "markdown",
   "metadata": {
    "id": "ZfImNZs6FgGA"
   },
   "source": [
    "### Grading Information (c/o Lab Instructor)\n",
    "\n",
    "TOTAL SCORE: **[]**/100\n",
    "\n",
    "Score breakdown:\n",
    "* Problem 1 - []/100\n",
    "\n",
    "_Date and Time Scored (MM/DD/YYYY HH:MM AM/PM):_"
   ]
  },
  {
   "cell_type": "markdown",
   "metadata": {
    "id": "LxWuqiCFMsEh"
   },
   "source": [
    "### PROBLEM 1\n",
    "**The Schrodinger equation and the Crank-Nicolson method**\n",
    "\n",
    "_Refer to Exercise 9.8 in the Newman text._ In this problem, you will use the Crank-Nicolson method to solve the full time-dependent Schrodinger equation and hence develop a picture of how a wavefunction evolves over time.\n",
    "\n",
    "Consider an electron (mass $M = 9.109 \\times 10^{-31}$ kg) in a box of length $L = 10^{-8}$ m. Suppose that at time $t = 0$ the wavefunction of the electron has the form\n",
    "\n",
    "$$ \\psi(x,0) = \\exp\\left[-\\frac{(x-x_0)^2}{2\\sigma^2}\\right]e^{i\\kappa x},$$\n",
    "where $x_0 = \\frac{L}{2}$, $\\sigma = 1 \\times 10^{-10}$ m, $\\kappa = 5 \\times 10^{10} {\\rm m}^{-1}$,  and $\\psi = 0$ on the walls at $x = 0$ and $x = L$."
   ]
  },
  {
   "cell_type": "markdown",
   "metadata": {
    "id": "VIkyCA1L2Vlt"
   },
   "source": [
    "1. Perform a single step of the Crank-Nicolson method for this electron, calculating the vector $\\psi(t)$ of values of the wavefunction, given the initial wavefunction above and using $N = 1000$ spatial slices with $a = L/N$. Your program will have to perform the following steps. First, given the vector $\\psi(0)$ at $t = 0$, you will have to multiply by the matrix $\\bf{B}$ to get a vector $\\bf{v} = \\bf{B}\\psi$. Because of the tridiagonal form of $\\bf{B}$, this is fairly simple. The $i$th component of $\\bf{v}$ is given by\n",
    "$$ v_i = b_1\\psi_i + b_2(\\psi_{i+1} + \\psi_{i-1}).$$\n",
    "\n",
    "   You will also have to choose a value for the time-step $h$. A reasonable choice is $h = 10^{-18}$ s. *(30 pts.)*\n",
    "\n",
    "2. Second you will have to solve the linear system ${\\bf Ax}= {\\bf v}$ for $\\bf{x}$, which gives you the new value of $\\psi$. You could do this using a standard linear equation solver like the function $\\tt solve$ in numpy's $\\tt linalg$. *(20 pts.)*\n",
    "\n",
    "3. Once you have the code in place to perform a single step of the calculation, extend your program to perform repeated steps and hence solve for $\\psi$ at a sequence of times a separation $h$ apart. Note that the matrix $\\bf A$ is independent of time, so it doesn't change from one step to another. You can set up the matrix just once and then keep on reusing it for every step. *(30 pts.)*\n",
    "\n",
    "4. Make an animation of the solution by displaying the real part of the wavefunction at each time-step. You can use the function rate from the package visual to ensure a smooth frame-rate for your animation-- see Section 3.5 on page 117 of the Newman text.\n",
    "\n",
    "   Run your animation for a while and describe what you see. Write a few sentences explaining in physics terms what is going on in the system. *(20 pts.)*"
   ]
  },
  {
   "cell_type": "code",
   "execution_count": 65,
   "metadata": {
    "id": "hMqWOsbIMoUh"
   },
   "outputs": [
    {
     "ename": "RuntimeError",
     "evalue": "Requested MovieWriter (ffmpeg) not available",
     "output_type": "error",
     "traceback": [
      "\u001b[1;31m---------------------------------------------------------------------------\u001b[0m",
      "\u001b[1;31mRuntimeError\u001b[0m                              Traceback (most recent call last)",
      "Cell \u001b[1;32mIn[65], line 69\u001b[0m\n\u001b[0;32m     67\u001b[0m plt\u001b[38;5;241m.\u001b[39mplot()\n\u001b[0;32m     68\u001b[0m \u001b[38;5;28;01mfrom\u001b[39;00m \u001b[38;5;21;01mIPython\u001b[39;00m\u001b[38;5;21;01m.\u001b[39;00m\u001b[38;5;21;01mdisplay\u001b[39;00m \u001b[38;5;28;01mimport\u001b[39;00m HTML\n\u001b[1;32m---> 69\u001b[0m HTML(\u001b[43mani\u001b[49m\u001b[38;5;241;43m.\u001b[39;49m\u001b[43mto_html5_video\u001b[49m\u001b[43m(\u001b[49m\u001b[43m)\u001b[49m)\n",
      "File \u001b[1;32mc:\\Users\\Darwin\\AppData\\Local\\Programs\\Python\\Python312\\Lib\\site-packages\\matplotlib\\animation.py:1265\u001b[0m, in \u001b[0;36mAnimation.to_html5_video\u001b[1;34m(self, embed_limit)\u001b[0m\n\u001b[0;32m   1262\u001b[0m path \u001b[38;5;241m=\u001b[39m Path(tmpdir, \u001b[38;5;124m\"\u001b[39m\u001b[38;5;124mtemp.m4v\u001b[39m\u001b[38;5;124m\"\u001b[39m)\n\u001b[0;32m   1263\u001b[0m \u001b[38;5;66;03m# We create a writer manually so that we can get the\u001b[39;00m\n\u001b[0;32m   1264\u001b[0m \u001b[38;5;66;03m# appropriate size for the tag\u001b[39;00m\n\u001b[1;32m-> 1265\u001b[0m Writer \u001b[38;5;241m=\u001b[39m \u001b[43mwriters\u001b[49m\u001b[43m[\u001b[49m\u001b[43mmpl\u001b[49m\u001b[38;5;241;43m.\u001b[39;49m\u001b[43mrcParams\u001b[49m\u001b[43m[\u001b[49m\u001b[38;5;124;43m'\u001b[39;49m\u001b[38;5;124;43manimation.writer\u001b[39;49m\u001b[38;5;124;43m'\u001b[39;49m\u001b[43m]\u001b[49m\u001b[43m]\u001b[49m\n\u001b[0;32m   1266\u001b[0m writer \u001b[38;5;241m=\u001b[39m Writer(codec\u001b[38;5;241m=\u001b[39m\u001b[38;5;124m'\u001b[39m\u001b[38;5;124mh264\u001b[39m\u001b[38;5;124m'\u001b[39m,\n\u001b[0;32m   1267\u001b[0m                 bitrate\u001b[38;5;241m=\u001b[39mmpl\u001b[38;5;241m.\u001b[39mrcParams[\u001b[38;5;124m'\u001b[39m\u001b[38;5;124manimation.bitrate\u001b[39m\u001b[38;5;124m'\u001b[39m],\n\u001b[0;32m   1268\u001b[0m                 fps\u001b[38;5;241m=\u001b[39m\u001b[38;5;241m1000.\u001b[39m \u001b[38;5;241m/\u001b[39m \u001b[38;5;28mself\u001b[39m\u001b[38;5;241m.\u001b[39m_interval)\n\u001b[0;32m   1269\u001b[0m \u001b[38;5;28mself\u001b[39m\u001b[38;5;241m.\u001b[39msave(\u001b[38;5;28mstr\u001b[39m(path), writer\u001b[38;5;241m=\u001b[39mwriter)\n",
      "File \u001b[1;32mc:\\Users\\Darwin\\AppData\\Local\\Programs\\Python\\Python312\\Lib\\site-packages\\matplotlib\\animation.py:128\u001b[0m, in \u001b[0;36mMovieWriterRegistry.__getitem__\u001b[1;34m(self, name)\u001b[0m\n\u001b[0;32m    126\u001b[0m \u001b[38;5;28;01mif\u001b[39;00m \u001b[38;5;28mself\u001b[39m\u001b[38;5;241m.\u001b[39mis_available(name):\n\u001b[0;32m    127\u001b[0m     \u001b[38;5;28;01mreturn\u001b[39;00m \u001b[38;5;28mself\u001b[39m\u001b[38;5;241m.\u001b[39m_registered[name]\n\u001b[1;32m--> 128\u001b[0m \u001b[38;5;28;01mraise\u001b[39;00m \u001b[38;5;167;01mRuntimeError\u001b[39;00m(\u001b[38;5;124mf\u001b[39m\u001b[38;5;124m\"\u001b[39m\u001b[38;5;124mRequested MovieWriter (\u001b[39m\u001b[38;5;132;01m{\u001b[39;00mname\u001b[38;5;132;01m}\u001b[39;00m\u001b[38;5;124m) not available\u001b[39m\u001b[38;5;124m\"\u001b[39m)\n",
      "\u001b[1;31mRuntimeError\u001b[0m: Requested MovieWriter (ffmpeg) not available"
     ]
    },
    {
     "data": {
      "image/png": "[encoded data removed]",
      "text/plain": [
       "<Figure size 640x480 with 1 Axes>"
      ]
     },
     "metadata": {},
     "output_type": "display_data"
    }
   ],
   "source": [
    "import numpy as np\n",
    "import matplotlib.pyplot as plt\n",
    "import matplotlib.animation as animation\n",
    "\n",
    "\n",
    "# Constants\n",
    "hbar = 1.0545718e-34  # Planck's constant over 2*pi in J s\n",
    "M = 9.109e-31  # mass of electron in kg\n",
    "L = 1e-8  # length of the box in meters\n",
    "x0 = L / 2  # initial position\n",
    "sigma = 1e-10  # standard deviation\n",
    "kappa = 5e10  # wave number\n",
    "N = 1000  # number of spatial slices\n",
    "a = L / N  # spatial step size\n",
    "h = 1e-18  # time step size\n",
    "\n",
    "# Spatial grid\n",
    "x = np.linspace(0, L, N)\n",
    "\n",
    "# define array psi for each timestep, \n",
    "# and initial wavefunction based on given psi0\n",
    "psi = []\n",
    "psi.append(np.exp(-(x - x0)**2 / (2 * sigma**2)) * np.exp(1j * kappa * x))\n",
    "\n",
    "# Coefficients for the Crank-Nicolson method\n",
    "a1 = 1 + 1j * h * hbar / (2 * M * a**2)\n",
    "b1 = 1 - 1j * h * hbar / (2 * M * a**2)\n",
    "a2 = -1j * h * hbar / (4 * M * a**2)\n",
    "b2 = 1j * h * hbar / (4 * M * a**2)\n",
    "\n",
    "# Matrix B\n",
    "B = np.zeros((N, N), dtype=complex)\n",
    "for i in range(0, N-1):\n",
    "    B[i, i] = b1\n",
    "    B[i, i+1] = b2\n",
    "    B[i+1, i] = b2\n",
    "B[N-1, N-1] = 1\n",
    "\n",
    "# Matrix A and corresponding inverse\n",
    "A = np.zeros((N, N), dtype=complex)\n",
    "for i in range(0, N-1):\n",
    "    A[i, i] = a1\n",
    "    A[i, i+1] = a2\n",
    "    A[i+1, i] = a2\n",
    "A[N-1, N-1] = a1\n",
    "\n",
    "Ainv = np.linalg.inv(A)\n",
    "\n",
    "# Loop over time steps\n",
    "for t in range(1000):\n",
    "    # solve for psi at next time step, using linear system A psi[t+1] = B psi[t]\n",
    "    v = np.matmul(B, psi[t])            # first calculate RHS, note matmul was used instead of prescribed equation\n",
    "    psi.append(np.matmul(Ainv, v))      # then, solve for psi[t+1] = A^-1 * v\n",
    "\n",
    "# Animate the wavefunction\n",
    "fig, ax = plt.subplots()\n",
    "temp = ax.plot(x, np.real(psi[0]))\n",
    "\n",
    "def update(frame):\n",
    "    # for each frame, update the data stored on each artist.\n",
    "    y = np.real(psi[frame])\n",
    "\n",
    "    return ([x, y])\n",
    "\n",
    "ani = animation.FuncAnimation(fig=fig, func=update, frames=40, interval=30)\n",
    "\n",
    "plt.plot()\n",
    "from IPython.display import HTML\n",
    "HTML(ani.to_html5_video())\n"
   ]
  },
  {
   "cell_type": "code",
   "execution_count": null,
   "metadata": {},
   "outputs": [],
   "source": []
  }
 ],
 "metadata": {
  "colab": {
   "provenance": [
    {
     "file_id": "10Pojs-__D-mTfJxQ15CqlAa0kas49_y3",
     "timestamp": 1731388979556
    },
    {
     "file_id": "1FJlZnhC4nq-8ag5P6s8R5x9AryccJwSV",
     "timestamp": 1598775074680
    }
   ]
  },
  "kernelspec": {
   "display_name": "Python 3",
   "name": "python3"
  },
  "language_info": {
   "codemirror_mode": {
    "name": "ipython",
    "version": 3
   },
   "file_extension": ".py",
   "mimetype": "text/x-python",
   "name": "python",
   "nbconvert_exporter": "python",
   "pygments_lexer": "ipython3",
   "version": "3.12.5"
  }
 },
 "nbformat": 4,
 "nbformat_minor": 0
}
